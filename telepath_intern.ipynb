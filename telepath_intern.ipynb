{
  "nbformat": 4,
  "nbformat_minor": 0,
  "metadata": {
    "colab": {
      "name": "telepath_intern.ipynb",
      "provenance": []
    },
    "kernelspec": {
      "name": "python3",
      "display_name": "Python 3"
    },
    "language_info": {
      "name": "python"
    }
  },
  "cells": [
    {
      "cell_type": "markdown",
      "source": [
        "### TELEPATH.IO INTERN ###"
      ],
      "metadata": {
        "id": "4s-Ocm5miSNl"
      }
    },
    {
      "cell_type": "markdown",
      "source": [
        "#### How did I solve the task? ####\n",
        "\n",
        "Data Analysis: \n",
        "\n",
        "- From first glance I can spot that this is Stock Price prediction (I had experience in trading and stock market).\n",
        "\n",
        "- Our input are 3 months everyday stock price info \n",
        "\n",
        "Feature Engineering:\n",
        "\n",
        "- I created 2 extra feature: Difference between low and high of everyday, and difference between open and close of everyday. \n",
        "\n",
        "- The reason is that, as a trader myself, I understand the common energy (or vibe) among stock traders, for a specific stock matters. For example, one is unlikely to buy or sell, when no one else is buying or selling. The amount of short-term traders also reflected in the difference between low-high.\n",
        "\n",
        "- I also wrote an extra part to test out my features selection, details below.\n",
        "\n",
        "Model Building\n",
        "\n",
        "- I did some research, and I agree with the internet that LSTM should be the best way to solve this problem. \n",
        "\n",
        "- \"What is LSTM? Do I understand it or did I just copied what's online?\". I learned LSTM in my Natural Language Processing (NLP) class, which is a typical and common way for text generation. Makes sense to me to use LSTM here, since texts and stock price are time-series that basically have the same principle.\n",
        "\n",
        "- My LSTM reference partly from here. https://www.kaggle.com/code/taronzakaryan/predicting-stock-price-using-lstm-model-pytorch/notebook\n",
        "\n",
        "Testing my model\n",
        "\n",
        "- I test my model using RMSE. I think RMSE is the suitable measure in this case, since we want to get our numbers as close as possible. \n",
        "\n",
        "- I have train - validation - test sets. An Adaptive function that train on train set, test on validation set, to choose the suitable parameters based on the dataset. Then get my final result (in RMSE) from test set. "
      ],
      "metadata": {
        "id": "M0cT3RLVihu0"
      }
    },
    {
      "cell_type": "markdown",
      "source": [
        "#### How do I explain my work? ###\n",
        "\n",
        "- I have comments above mostly every line of codes I wrote. Hopefully you find it clear, but I am more than happy to answer any confusions. \n",
        "\n",
        "### Communication ###\n",
        "\n",
        "- Other than the help from the internet (the kaggle link I provided above), I did this on my own. \n",
        "\n",
        "- I made a lot of modification comparing to the kaggle link, so I hope it is fine. I think researching is part of our jobs anyways. \n",
        "\n",
        "### Creative/ Criticial Thinking ###\n",
        "\n",
        "- So I'm not quite sure how to answer this one properly xD.\n",
        "\n",
        "- I would say creating the difference between open-close and low-high is creative. But at the same time I just feel that I got lucky, thanks to having experience in tradings. \n",
        "\n",
        "- I would say that I created a scalable, adaptive pipeline, for future data self-adjust is creative, but on the otherhand, I believe it is what I needed to do \n",
        "\n",
        "- One thing I spot after playing around with the data is that: since our data is limited, those period where stock price are stable produces better predictions comparing to those period with lots of change. \n",
        "\n",
        "- Hopefully you can see my creativity while going through my codes. "
      ],
      "metadata": {
        "id": "fSFQUFx8ihgK"
      }
    },
    {
      "cell_type": "markdown",
      "source": [
        "### Extra ###\n",
        "\n",
        "- I know that my work is not perfect, but I hope that it is enough to show you that I have the ability to learn, and the potential to thrive in the future. "
      ],
      "metadata": {
        "id": "TjDg6M4bihPF"
      }
    },
    {
      "cell_type": "code",
      "execution_count": 1,
      "metadata": {
        "colab": {
          "base_uri": "https://localhost:8080/"
        },
        "id": "D9GkehVGPiaP",
        "outputId": "02ff42ee-a312-4427-f531-82939a2c275d"
      },
      "outputs": [
        {
          "output_type": "stream",
          "name": "stdout",
          "text": [
            "Mounted at /content/gdrive\n"
          ]
        }
      ],
      "source": [
        "from google.colab import drive\n",
        "drive.mount('/content/gdrive')"
      ]
    },
    {
      "cell_type": "code",
      "source": [
        "import pandas as pd\n",
        "import numpy as np\n",
        "import torch\n",
        "import torch.nn as nn\n",
        "import copy\n",
        "from pylab import plt\n",
        "from math import sqrt\n",
        "from sklearn.metrics import mean_squared_error\n",
        "from sklearn.preprocessing import MinMaxScaler, StandardScaler\n",
        "from sklearn.compose import ColumnTransformer"
      ],
      "metadata": {
        "id": "AlnPozeQProF"
      },
      "execution_count": 32,
      "outputs": []
    },
    {
      "cell_type": "code",
      "source": [
        "#Read file\n",
        "def read_file(file_name):\n",
        "  file = pd.read_csv(file_name)\n",
        "  return file\n",
        "\n",
        "\n",
        "#Preprocessing data\n",
        "def preprocess_file(eth):\n",
        "\n",
        "  #change 'date' to date time format\n",
        "  eth['date'] = pd.to_datetime(eth[\"date\"])\n",
        "\n",
        "  #sort by date, from oldest to latest\n",
        "  eth = eth.sort_values(by=\"date\")\n",
        "\n",
        "  #add more features\n",
        "  eth['high_low_dif'] = eth['high'] - eth['low']\n",
        "  eth['open_close_dif'] = eth['open'] - eth['close']\n",
        "\n",
        "  #set date as index\n",
        "  eth = eth.set_index(['date'])\n",
        "\n",
        "  # Standard scalers on columns\n",
        "  scale_cols = ['open', 'high', 'low', 'close', 'adjusted_close', 'volume','high_low_dif', 'open_close_dif' ]\n",
        "  scale_data = eth[scale_cols]\n",
        "\n",
        "  #Scaling dictionary for inverse transform later\n",
        "  scaler = {}\n",
        "  for c in scale_cols:\n",
        "    scaler[c] = StandardScaler()\n",
        "    eth[c] = scaler[c].fit_transform(eth[c].values.reshape(-1,1))\n",
        "\n",
        "  return eth, scaler\n",
        "\n",
        "\n",
        "#info: numpy arrays\n",
        "#lookback: int (days for LSTM to look back)\n",
        "#days_forecast: int (days for LSTM to look ahead, or forecast)\n",
        "def load_data(info, lookback, days_forecast, valid_set = True):\n",
        "\n",
        "  #in total days\n",
        "  n = days_forecast\n",
        "\n",
        "  #create data, all possible sequences with length lookback, to feed into LSTM\n",
        "  data = []\n",
        "  for i in range(len(info) - lookback + 1):\n",
        "    data.append(info[i:i+lookback])\n",
        "  data = np.array(data)\n",
        "  data_size = data.shape[0]\n",
        "\n",
        "  #if we want validation set\n",
        "  if valid_set == True:\n",
        "    #create train + validation set size\n",
        "    train_val_size = int(np.round(0.84 * data_size))\n",
        "\n",
        "    #create test set size\n",
        "    test_size = data_size - train_val_size\n",
        "\n",
        "    #create train set size\n",
        "    train_size = int(np.round(0.8 * train_val_size))\n",
        "\n",
        "    #create validation set size\n",
        "    val_size = train_val_size - train_size\n",
        "\n",
        "    #create train-val-test sets\n",
        "    #each entry of x_train, x_val, x_test is a sequence of look back days - forecast days\n",
        "    x_train = data[:train_size, :-n, :]\n",
        "    x_val = data[train_size: train_size + val_size, :-n, :]\n",
        "    x_test = data[train_val_size:, :-n, :]\n",
        "\n",
        "    #each entry of y_train, y_val, y_test is a sequence of forecast days\n",
        "    if data.shape[2] == 1:\n",
        "      #only 'close' column, index 3\n",
        "      y_train = data[:train_size, -n:, 0]\n",
        "      y_val = data[train_size: train_size + val_size, -n:, 0]\n",
        "      y_test = data[train_val_size:, -n:, 0]\n",
        "    else:\n",
        "      #only 'close' column, index 3\n",
        "      y_train = data[:train_size, -n:, 3]\n",
        "      y_val = data[train_size: train_size + val_size, -n:, 3]\n",
        "      y_test = data[train_val_size:, -n:, 3]\n",
        "\n",
        "    x_train = torch.from_numpy(x_train).type(torch.Tensor)\n",
        "    x_test = torch.from_numpy(x_test).type(torch.Tensor)\n",
        "    y_train = torch.from_numpy(y_train).type(torch.Tensor)\n",
        "    y_test = torch.from_numpy(y_test).type(torch.Tensor)\n",
        "    y_val = torch.from_numpy(y_val).type(torch.Tensor)\n",
        "    x_val = torch.from_numpy(x_val).type(torch.Tensor)\n",
        "\n",
        "  #if we do not want validation set\n",
        "  else:\n",
        "    #create train size\n",
        "    train_size = int(np.round(0.8 * data_size))\n",
        "\n",
        "    #create test set size\n",
        "    test_size = data_size - train_size\n",
        "\n",
        "    #create train-test sets\n",
        "    #each entry of x_train, x_test is a sequence of look back days - forecast days\n",
        "    x_train = data[:train_size, :-n, :]\n",
        "    x_test = data[train_size:, :-n, :]\n",
        "\n",
        "    #each entry of y_train, y_test is a sequence of forecast days\n",
        "    if data.shape[2] == 1:\n",
        "      y_train = data[:train_size, -n:, 0]\n",
        "      y_test = data[train_size:, -n:, 0]\n",
        "    else: \n",
        "      #only 'close' column, index 3\n",
        "      y_train = data[:train_size, -n:, 3]\n",
        "      y_test = data[train_size:, -n:, 3]\n",
        "\n",
        "    x_train = torch.from_numpy(x_train).type(torch.Tensor)\n",
        "    x_test = torch.from_numpy(x_test).type(torch.Tensor)\n",
        "    y_train = torch.from_numpy(y_train).type(torch.Tensor)\n",
        "    y_test = torch.from_numpy(y_test).type(torch.Tensor)\n",
        "    y_val = None\n",
        "    x_val = None\n",
        "\n",
        "  return [x_train, y_train, x_val, y_val, x_test, y_test]\n",
        "  \n",
        "\n",
        "#create LSTM\n",
        "class LSTM(nn.Module):\n",
        "  def __init__(self, input_dim, hidden_dim, num_layers, output_dim, days_forecast):\n",
        "    super(LSTM, self).__init__()\n",
        "    self.days_forecast = days_forecast\n",
        "    self.output_dim = output_dim\n",
        "    self.hidden = hidden_dim\n",
        "    self.num_layers = num_layers\n",
        "    self.lstm = nn.LSTM(input_dim, hidden_dim, num_layers, batch_first = True)\n",
        "    self.fc = nn.Linear(hidden_dim, output_dim*days_forecast)\n",
        "  def forward(self, x):\n",
        "    h0 = torch.zeros(self.num_layers, x.size(0), self.hidden).requires_grad_()\n",
        "    c0 = torch.zeros(self.num_layers, x.size(0), self.hidden).requires_grad_()\n",
        "    out, (hn, cn) = self.lstm(x, (h0.detach(), c0.detach()))\n",
        "    out = self.fc(out[:, -1, :])\n",
        "    out = torch.reshape(out, (-1, self.days_forecast, self.output_dim))\n",
        "    return out\n",
        "\n",
        "\n",
        "def create_LSTM(input_dim, hidden_dim, num_layers, output_dim, days_forecast):\n",
        "  model = LSTM(input_dim = input_dim, hidden_dim = hidden_dim, output_dim = output_dim, num_layers = num_layers, days_forecast = days_forecast)\n",
        "  return model\n",
        "\n",
        "\n",
        "#training function\n",
        "def train(model, num_epochs, x_train, y_train, graphing = False):\n",
        "  loss_fn = torch.nn.MSELoss()\n",
        "  optimizer = torch.optim.Adam(model.parameters(), lr = 0.01)\n",
        "  hist = np.zeros(num_epochs)\n",
        "  for e in range(num_epochs):\n",
        "    y_train_pred = model(x_train)\n",
        "  \n",
        "    #comparing with 'close' column of y_train, because we are trying to predict 'close'\n",
        "    loss = loss_fn(y_train_pred.squeeze(), y_train)\n",
        "    hist[e] = loss.item()\n",
        "\n",
        "    # Zero out gradient, else they will accumulate between epochs\n",
        "    optimizer.zero_grad()\n",
        "\n",
        "    # Backward pass\n",
        "    loss.backward()\n",
        "\n",
        "    # Update parameters\n",
        "    optimizer.step()\n",
        "  \n",
        "  # graph training loss\n",
        "  if graphing == True:\n",
        "    plt.plot(hist, label=\"Training loss\")\n",
        "    plt.legend()\n",
        "    plt.show()\n",
        "\n",
        "  return model\n",
        "\n",
        "#evaluation function\n",
        "def evaluation(model, x_train, y_train, x_val, y_val, scaler):\n",
        "  #make predictions\n",
        "  y_train_pred = model(x_train).detach().numpy()\n",
        "  y_val_pred = model(x_val).detach().numpy()\n",
        "  \n",
        "  #reduce dimension\n",
        "  y_val_pred = y_val_pred.squeeze()\n",
        "  y_train_pred = y_train_pred.squeeze()\n",
        "\n",
        "  # #only the 'close' feature\n",
        "  # y_train = y_train[:, :, 3]\n",
        "  # y_val = y_val[:, :, 3]\n",
        "\n",
        "  #inverse transform\n",
        "  y_train_pred = scaler['close'].inverse_transform(y_train_pred)\n",
        "  y_train = scaler['close'].inverse_transform(y_train)\n",
        "  y_val_pred = scaler['close'].inverse_transform(y_val_pred)\n",
        "  y_val = scaler['close'].inverse_transform(y_val)\n",
        "\n",
        "  #RMSE\n",
        "  train_error = sqrt(mean_squared_error(y_train, y_train_pred))\n",
        "  val_error = sqrt(mean_squared_error(y_val, y_val_pred))\n",
        "  return train_error, val_error\n"
      ],
      "metadata": {
        "id": "ks6cuUxcPysv"
      },
      "execution_count": 111,
      "outputs": []
    },
    {
      "cell_type": "code",
      "source": [
        "###### ADAPTIVE PIPELINE #######\n",
        "file_name = \"/content/gdrive/My Drive/Telepath/stockprice/eth.csv\"\n",
        "file = read_file(file_name)\n",
        "file, scaler = preprocess_file(file)\n",
        "\n",
        "def adaptive(file):\n",
        "  #Initialize\n",
        "  days_forecast = 6\n",
        "  days_look_back = [10, 15, 20, 30]\n",
        "  num_epochs = [100, 150, 200, 300, 600]\n",
        "  hidden_dim = 32\n",
        "  num_layers = 2\n",
        "  output_dim = 1\n",
        "\n",
        "  #Find the best parameters to our dataset\n",
        "  min_error = 999999\n",
        "  optimalModel = None\n",
        "  optimalLookback = None\n",
        "  optimalEpochs = None\n",
        "  for d in days_look_back:\n",
        "    x_train, y_train, x_val, y_val, x_test, y_test = load_data(file, d, days_forecast)\n",
        "    input_dim = x_train.shape[2]\n",
        "\n",
        "    for e in num_epochs:\n",
        "\n",
        "      model = create_LSTM(input_dim = input_dim, hidden_dim = hidden_dim, output_dim = output_dim, num_layers = num_layers, days_forecast = days_forecast)\n",
        "\n",
        "      model = train(model, e, x_train, y_train)\n",
        "\n",
        "      error_train, error_val = evaluation(model, x_train, y_train, x_val, y_val, scaler)\n",
        "\n",
        "      if error_val < min_error:\n",
        "        min_error = error_val\n",
        "        optimalModel = copy.deepcopy(model)\n",
        "        optimalLookback = d\n",
        "        optimalEpochs = e\n",
        "\n",
        "  print('Optimal Epochs:', optimalEpochs)\n",
        "  print('Optimal Days to Lookback', optimalLookback)\n",
        "\n",
        "  #Use the best parameters to train and predict\n",
        "  x_train, y_train, x_val, y_val, x_test, y_test = load_data(file, optimalLookback, days_forecast, valid_set = False)\n",
        "  input_dim = x_train.shape[2]\n",
        "  model = create_LSTM(input_dim = input_dim, hidden_dim = hidden_dim, output_dim = output_dim, num_layers = num_layers, days_forecast = days_forecast)\n",
        "  model = train(model, optimalEpochs, x_train, y_train)\n",
        "  error_train, error_test = evaluation(model, x_train, y_train, x_test, y_test, scaler)\n",
        "  print('RMSE on Test Data:', error_test)\n",
        "  return model, error_test, optimalLookBack"
      ],
      "metadata": {
        "id": "9aqZPb0KeS5b"
      },
      "execution_count": 102,
      "outputs": []
    },
    {
      "cell_type": "code",
      "source": [
        "##### RESULTS GET BETTER WITH MORE DATA? ######\n",
        "\n",
        "sample_size = [55, 70, 85, 100]\n",
        "error = []\n",
        "for s in sample_size:\n",
        "  data_shorten = file.iloc[:s, :]\n",
        "  print('Current Number of sample:', data_shorten.shape)\n",
        "  model, error_s, optimalLookBack = adaptive(data_shorten)\n",
        "  error.append(error_s)\n"
      ],
      "metadata": {
        "colab": {
          "base_uri": "https://localhost:8080/"
        },
        "id": "jE-zCmkjwPrg",
        "outputId": "50c605be-70c0-4750-a771-a3053b97e549"
      },
      "execution_count": 103,
      "outputs": [
        {
          "output_type": "stream",
          "name": "stdout",
          "text": [
            "Current Number of sample: (55, 10)\n",
            "Optimal Epochs: 200\n",
            "Optimal Days to Lookback 20\n",
            "RMSE on Test Data: 192.20159215425866\n",
            "Current Number of sample: (70, 10)\n",
            "Optimal Epochs: 100\n",
            "Optimal Days to Lookback 10\n",
            "RMSE on Test Data: 380.2253896567514\n",
            "Current Number of sample: (85, 10)\n",
            "Optimal Epochs: 300\n",
            "Optimal Days to Lookback 30\n",
            "RMSE on Test Data: 330.36040874425413\n",
            "Current Number of sample: (100, 10)\n",
            "Optimal Epochs: 100\n",
            "Optimal Days to Lookback 15\n",
            "RMSE on Test Data: 387.6862898528516\n"
          ]
        }
      ]
    },
    {
      "cell_type": "code",
      "source": [
        "plt.plot(sample_size, error)\n",
        "plt.xlabel('Sample Size')\n",
        "\n",
        "### It seems to me here is that, period with less sudden changes in stock price (before August),\n",
        "### the model does better. It is not because we have more or less data. \n",
        "### Apparently there is not much different between 50-100 samples. Maybe 100-1000, we can see the difference"
      ],
      "metadata": {
        "colab": {
          "base_uri": "https://localhost:8080/",
          "height": 296
        },
        "id": "EmIL3jDRyUO-",
        "outputId": "1fe070f0-d6a8-4524-a3f0-dedfb9f0554a"
      },
      "execution_count": 104,
      "outputs": [
        {
          "output_type": "execute_result",
          "data": {
            "text/plain": [
              "Text(0.5, 0, 'Sample Size')"
            ]
          },
          "metadata": {},
          "execution_count": 104
        },
        {
          "output_type": "display_data",
          "data": {
            "text/plain": [
              "<Figure size 432x288 with 1 Axes>"
            ],
            "image/png": "[encoded data removed]"
          },
          "metadata": {
            "needs_background": "light"
          }
        }
      ]
    },
    {
      "cell_type": "code",
      "source": [
        "#### Testing Features ####\n",
        "error_f = []\n",
        "### Input only 'close' column ###\n",
        "only_close = np.expand_dims(file.iloc[:,3], axis = 1)\n",
        "model, error_fc, optimalLookBack = adaptive(only_close)\n",
        "error_f.append(error_fc)\n",
        "\n",
        "### Input without open_close_dif and low_high_dif ###\n",
        "without_dif = file.iloc[:, :8]\n",
        "model, error_fd, optimalLookBack = adaptive(without_dif)\n",
        "error_f.append(error_fd)\n",
        "\n",
        "### Input with all features ###\n",
        "model, error_fa, optimalLookBack = adaptive(file)\n",
        "error_f.append(error_fa)\n"
      ],
      "metadata": {
        "colab": {
          "base_uri": "https://localhost:8080/"
        },
        "id": "eDNrsflnVMrS",
        "outputId": "1fd389f2-fb5d-4a9b-f611-67dba5335460"
      },
      "execution_count": 97,
      "outputs": [
        {
          "output_type": "stream",
          "name": "stdout",
          "text": [
            "Optimal Epochs: 150\n",
            "Optimal Days to Lookback 30\n",
            "RMSE on Test Data: 445.3308151096796\n",
            "Optimal Epochs: 100\n",
            "Optimal Days to Lookback 20\n",
            "RMSE on Test Data: 502.2518840533326\n",
            "Optimal Epochs: 150\n",
            "Optimal Days to Lookback 20\n",
            "RMSE on Test Data: 397.50405541961914\n"
          ]
        }
      ]
    },
    {
      "cell_type": "code",
      "source": [
        "plt.bar(['only close', 'without dif', 'all features'],error_f)\n",
        "plt.title('RMSE Comparision')\n",
        "# and using all features, including low-high dif and close-open dif increase our accuracy"
      ],
      "metadata": {
        "colab": {
          "base_uri": "https://localhost:8080/",
          "height": 298
        },
        "id": "978FhB4TWwak",
        "outputId": "7985fa2b-ac29-413c-879d-0fed5bb0189e"
      },
      "execution_count": 100,
      "outputs": [
        {
          "output_type": "execute_result",
          "data": {
            "text/plain": [
              "Text(0.5, 1.0, 'RMSE Comparision')"
            ]
          },
          "metadata": {},
          "execution_count": 100
        },
        {
          "output_type": "display_data",
          "data": {
            "text/plain": [
              "<Figure size 432x288 with 1 Axes>"
            ],
            "image/png": "[encoded data removed]"
          },
          "metadata": {
            "needs_background": "light"
          }
        }
      ]
    },
    {
      "cell_type": "code",
      "source": [
        "### Pre-set Parameters ###\n",
        "\n",
        "##### A function that we can set the parameters #####\n",
        "def preset(file, days_look_back, num_epochs, valid_set = False):\n",
        "  days_forecast = 6\n",
        "  hidden_dim = 32\n",
        "  num_layers = 2\n",
        "  output_dim = 1\n",
        "\n",
        "  # create traintestval set\n",
        "  x_train, y_train, x_val, y_val, x_test, y_test = load_data(file, days_look_back, days_forecast, valid_set = valid_set)\n",
        "  \n",
        "  input_dim = x_train.shape[2]\n",
        "  model = create_LSTM(input_dim = input_dim, hidden_dim = hidden_dim, output_dim = output_dim, num_layers = num_layers, days_forecast = days_forecast)\n",
        "  model = train(model, num_epochs, x_train, y_train, graphing = True)\n",
        "\n",
        "  error_train, error_test = evaluation(model, x_train, y_train, x_test, y_test, scaler)\n",
        "  return model, error_train, error_test\n",
        "\n"
      ],
      "metadata": {
        "id": "KRVsaC6ldC1K"
      },
      "execution_count": 112,
      "outputs": []
    },
    {
      "cell_type": "code",
      "source": [
        "### Assuming our original data is from day 0 to day 92nd. We get new input day 93rd. \n",
        "### Let's predict day 94th to 99th (6 days), and compare with real value\n",
        "data_to_93 = file.iloc[:93, :]\n",
        "days_look_back = 17\n",
        "num_epochs = 150\n",
        "model, error_train, error_s = preset(data_to_93, days_look_back, num_epochs )\n",
        "\n",
        "print('Train set error', error_train)\n",
        "print('Test set error', error_s)\n",
        "\n",
        "#create sequence to look back, until the latest day\n",
        "newData = torch.from_numpy(np.array([file.iloc[94-days_look_back:94, :]])) \n",
        "\n",
        "#get prediction and inverse transform to measure RMSE\n",
        "prediction = model(newData.type(torch.Tensor)).detach().numpy().squeeze()\n",
        "prediction = scaler['close'].inverse_transform(prediction.reshape(6,1))\n",
        "\n",
        "#real value\n",
        "real = scaler['close'].inverse_transform(np.array(file.iloc[94:, 3]).reshape(6,1))\n",
        "\n",
        "#RMSE\n",
        "error = sqrt(mean_squared_error(real, prediction))\n",
        "print('Predict day 94th to day 99th')\n",
        "print('RMSE:', error)\n",
        "\n",
        "#plot the graph\n",
        "figure, axes = plt.subplots(figsize=(15, 6))\n",
        "axes.plot(file[94:].index, real, color = 'red', label = 'Real')\n",
        "axes.plot(file[94:].index, prediction, color = 'blue', label = 'Predicted')\n",
        "plt.title('Prediction')\n",
        "plt.xlabel('Time')\n",
        "plt.ylabel('Price')\n",
        "plt.legend()\n",
        "plt.show()"
      ],
      "metadata": {
        "colab": {
          "base_uri": "https://localhost:8080/",
          "height": 695
        },
        "id": "L9aebXTG0zr9",
        "outputId": "292489d7-33b7-44a5-9b24-cd8f38d4db49"
      },
      "execution_count": 154,
      "outputs": [
        {
          "output_type": "display_data",
          "data": {
            "text/plain": [
              "<Figure size 432x288 with 1 Axes>"
            ],
            "image/png": "[encoded data removed]"
          },
          "metadata": {
            "needs_background": "light"
          }
        },
        {
          "output_type": "stream",
          "name": "stdout",
          "text": [
            "Train set error 75.68793105059899\n",
            "Test set error 390.1272061466462\n",
            "Predict day 94th to day 99th\n",
            "RMSE: 83.98178807770086\n"
          ]
        },
        {
          "output_type": "display_data",
          "data": {
            "text/plain": [
              "<Figure size 1080x432 with 1 Axes>"
            ],
            "image/png": "[encoded data removed]"
          },
          "metadata": {
            "needs_background": "light"
          }
        }
      ]
    }
  ]
}